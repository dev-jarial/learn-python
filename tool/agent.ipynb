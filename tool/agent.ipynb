{
 "cells": [
  {
   "cell_type": "code",
   "execution_count": null,
   "id": "0241b961",
   "metadata": {},
   "outputs": [],
   "source": [
    "from openai import OpenAI\n",
    "import json\n",
    "api_key=\"\"\n",
    "client = OpenAI(api_key=api_key)"
   ]
  },
  {
   "cell_type": "code",
   "execution_count": 2,
   "id": "74338164",
   "metadata": {},
   "outputs": [],
   "source": [
    "tools = [\n",
    "    {\n",
    "        \"type\": \"function\",\n",
    "        \"name\": \"generate_image\",\n",
    "        \"description\": \"Generate the image for social media or blog post on the basis of given instructions\",\n",
    "        \"parameters\": {\n",
    "            \"type\": \"object\",\n",
    "            \"properties\": {\n",
    "                \"prompt\": {\n",
    "                    \"type\": \"string\",\n",
    "                    \"description\": \"Creative prompt for the image generate, which show the clarity, vision and creativeness to attract and eye catchy\",\n",
    "                }\n",
    "            },\n",
    "            \"required\": [\"prompt\"],\n",
    "            \"additionalProperties\": False,\n",
    "        },\n",
    "    },\n",
    "    {\n",
    "        \"type\": \"function\",\n",
    "        \"name\": \"generate_content\",\n",
    "        \"description\": \"Generate the content for social media post or blog, content should be attractive and eye catchy\",\n",
    "        \"parameters\": {\n",
    "            \"type\": \"object\",\n",
    "            \"properties\": {\n",
    "                \"prompt\": {\n",
    "                    \"type\": \"string\",\n",
    "                    \"description\": \"Creative prompt for the content or caption generate, which show the clarity, vision and creativeness\",\n",
    "                }\n",
    "            },\n",
    "            \"required\": [\"prompt\"],\n",
    "            \"additionalProperties\": False,\n",
    "        },\n",
    "    },\n",
    "]"
   ]
  },
  {
   "cell_type": "code",
   "execution_count": 3,
   "id": "12b8f768",
   "metadata": {},
   "outputs": [],
   "source": [
    "import base64\n",
    "\n",
    "def generate_image(prompt):\n",
    "    # result = client.images.generate(\n",
    "    #     model=\"gpt-image-1\",\n",
    "    #     prompt=prompt\n",
    "    # )\n",
    "    # response = result.data\n",
    "    response = \"https://trickywebsolution.com/python-developer.png\"\n",
    "    print(response)\n",
    "    return response\n"
   ]
  },
  {
   "cell_type": "code",
   "execution_count": 4,
   "id": "20f3cff6",
   "metadata": {},
   "outputs": [],
   "source": [
    "def generate_content(prompt):\n",
    "    response = client.responses.create(\n",
    "        model=\"gpt-4.1\",\n",
    "        input=prompt\n",
    "    )\n",
    "    output = response.output_text\n",
    "    return output"
   ]
  },
  {
   "cell_type": "code",
   "execution_count": 5,
   "id": "3e0d5345",
   "metadata": {},
   "outputs": [],
   "source": [
    "messages = [\n",
    "    {\n",
    "        \"role\": \"system\", \n",
    "        \"content\": \"Your are a helpful assistant, You are working with other tools.\\nYou have to anaylyse what user want.\\n By briefly analysing the user query ask other tools to do work on it.\\n You can ask multiple tools to work on it.\\n When the reponse for the user is completed, not needed to call the tools more! Just return the final answer\"\n",
    "    },\n",
    "    {\n",
    "        \"role\": \"user\", \n",
    "        \"content\": \"create the post for linkedin with some text content and image, for new python developer hiring\"\n",
    "    }\n",
    "]"
   ]
  },
  {
   "cell_type": "code",
   "execution_count": 6,
   "id": "9e2f6f59",
   "metadata": {},
   "outputs": [
    {
     "data": {
      "text/plain": [
       "[{'role': 'system',\n",
       "  'content': 'Your are a helpful assistant, You are working with other tools.\\nYou have to anaylyse what user want.\\n By briefly analysing the user query ask other tools to do work on it.\\n You can ask multiple tools to work on it.\\n When the reponse for the user is completed, not needed to call the tools more! Just return the final answer'},\n",
       " {'role': 'user',\n",
       "  'content': 'create the post for linkedin with some text content and image, for new python developer hiring'}]"
      ]
     },
     "execution_count": 6,
     "metadata": {},
     "output_type": "execute_result"
    }
   ],
   "source": [
    "messages"
   ]
  },
  {
   "cell_type": "code",
   "execution_count": 7,
   "id": "f245dc45",
   "metadata": {},
   "outputs": [],
   "source": [
    "response = client.responses.create(\n",
    "    model=\"gpt-4.1\",\n",
    "    input=messages,\n",
    "    tools=tools,\n",
    "    tool_choice=\"auto\"\n",
    ")"
   ]
  },
  {
   "cell_type": "code",
   "execution_count": 8,
   "id": "d9cb7b23",
   "metadata": {},
   "outputs": [
    {
     "name": "stdout",
     "output_type": "stream",
     "text": [
      "[ResponseFunctionToolCall(arguments='{\"prompt\":\"Create a professional and engaging LinkedIn post announcing that we are hiring a new Python Developer. Highlight the exciting opportunities, desired skills, and encourage ambitious developers to apply. Keep the tone enthusiastic and inviting.\"}', call_id='call_XK00PxVjkjKDgxFSzXJ2Dars', name='generate_content', type='function_call', id='fc_6818b7130ca48191b705a55e791a90030ede51d00b2b4c89', status='completed'), ResponseFunctionToolCall(arguments='{\"prompt\":\"Create a modern and vibrant image for a LinkedIn post, featuring \\'We\\'re Hiring - Python Developer\\' text, Python logo, and technology icons, with an attractive layout suitable for a corporate hiring announcement.\"}', call_id='call_zS9jvIyZRmL1LJ3FygTFh7hN', name='generate_image', type='function_call', id='fc_6818b713dca88191982f3e4f46beefe10ede51d00b2b4c89', status='completed')]\n"
     ]
    }
   ],
   "source": [
    "tool_call = response.output\n",
    "print(tool_call)"
   ]
  },
  {
   "cell_type": "code",
   "execution_count": null,
   "id": "7da6b8e4",
   "metadata": {},
   "outputs": [],
   "source": [
    "tools_list = []\n",
    "args_list = []\n",
    "for tool in tool_call:\n",
    "    print(tool.name)\n",
    "    tools_list.append(tool.name)\n",
    "    args_list.append(json.loads(tool.arguments))\n",
    "print(tools_list)\n",
    "print(args_list)"
   ]
  },
  {
   "cell_type": "code",
   "execution_count": null,
   "id": "238378b1",
   "metadata": {},
   "outputs": [],
   "source": [
    "for tool, args in zip(tools_list, args_list):\n",
    "    print(tool)\n",
    "    print(args)\n",
    "    response = globals()[tool](**args)\n",
    "    print(response)\n",
    "    messages.append({\n",
    "        \"role\": \"system\",\n",
    "        \"content\": response\n",
    "    })\n"
   ]
  },
  {
   "cell_type": "code",
   "execution_count": null,
   "id": "bb97a3b1",
   "metadata": {},
   "outputs": [],
   "source": []
  },
  {
   "cell_type": "code",
   "execution_count": null,
   "id": "5ef90068",
   "metadata": {},
   "outputs": [],
   "source": [
    "messages"
   ]
  },
  {
   "cell_type": "code",
   "execution_count": null,
   "id": "ad09a3b1",
   "metadata": {},
   "outputs": [],
   "source": []
  },
  {
   "cell_type": "code",
   "execution_count": null,
   "id": "2e32fd0e",
   "metadata": {},
   "outputs": [],
   "source": [
    "print(response.data[0].b64_json)"
   ]
  },
  {
   "cell_type": "code",
   "execution_count": null,
   "id": "84a5e028",
   "metadata": {},
   "outputs": [],
   "source": [
    "image_base64 = response.data[0].b64_json\n",
    "\n",
    "image_bytes = base64.b64decode(image_base64)\n",
    "\n",
    "# Save the image to a file\n",
    "with open(\"otter.png\", \"wb\") as f:\n",
    "    f.write(image_bytes)"
   ]
  },
  {
   "cell_type": "code",
   "execution_count": null,
   "id": "982b7d0d",
   "metadata": {},
   "outputs": [],
   "source": []
  }
 ],
 "metadata": {
  "kernelspec": {
   "display_name": ".venv",
   "language": "python",
   "name": "python3"
  },
  "language_info": {
   "codemirror_mode": {
    "name": "ipython",
    "version": 3
   },
   "file_extension": ".py",
   "mimetype": "text/x-python",
   "name": "python",
   "nbconvert_exporter": "python",
   "pygments_lexer": "ipython3",
   "version": "3.12.3"
  }
 },
 "nbformat": 4,
 "nbformat_minor": 5
}
