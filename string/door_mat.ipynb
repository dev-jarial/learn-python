{
 "cells": [
  {
   "cell_type": "code",
   "execution_count": null,
   "metadata": {},
   "outputs": [],
   "source": [
    "def mat_manufacture(N, M):\n",
    "    if not M == N*3:\n",
    "        return None\n",
    "    if not 5 < N < 101:\n",
    "        return None\n",
    "    if not 15 < M < 303:\n",
    "        return None\n",
    "    center = int(N/2)+1\n",
    "    for i in range(1, N+1):\n",
    "        if i == center:\n",
    "            print((\"Welcome\").center(M, \"-\"))\n",
    "        if i < center:\n",
    "            print((\".|.\"*(i)).center(M, \"-\"))\n",
    "        if i > center:\n",
    "            print((\".|.\"*(center*2+2-i)).center(M, \"-\"))"
   ]
  },
  {
   "cell_type": "code",
   "execution_count": 56,
   "metadata": {},
   "outputs": [
    {
     "name": "stdout",
     "output_type": "stream",
     "text": [
      "--------.|..|.-------\n",
      "------.|..|..|.------\n",
      "-----.|..|..|..|.----\n",
      "-------Welcome-------\n",
      "-----.|..|..|..|.----\n",
      "------.|..|..|.------\n",
      "--------.|..|.-------\n"
     ]
    }
   ],
   "source": [
    "mat_manufacture(7, M=21)"
   ]
  },
  {
   "cell_type": "code",
   "execution_count": 25,
   "metadata": {},
   "outputs": [],
   "source": [
    "N, M = input().split(\" \")"
   ]
  },
  {
   "cell_type": "code",
   "execution_count": 27,
   "metadata": {},
   "outputs": [
    {
     "data": {
      "text/plain": [
       "'7'"
      ]
     },
     "execution_count": 27,
     "metadata": {},
     "output_type": "execute_result"
    }
   ],
   "source": [
    "N"
   ]
  },
  {
   "cell_type": "code",
   "execution_count": null,
   "metadata": {},
   "outputs": [],
   "source": []
  }
 ],
 "metadata": {
  "kernelspec": {
   "display_name": ".venv",
   "language": "python",
   "name": "python3"
  },
  "language_info": {
   "codemirror_mode": {
    "name": "ipython",
    "version": 3
   },
   "file_extension": ".py",
   "mimetype": "text/x-python",
   "name": "python",
   "nbconvert_exporter": "python",
   "pygments_lexer": "ipython3",
   "version": "3.12.3"
  }
 },
 "nbformat": 4,
 "nbformat_minor": 2
}
