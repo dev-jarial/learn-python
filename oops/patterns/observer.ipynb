{
 "cells": [
  {
   "cell_type": "code",
   "execution_count": 1,
   "metadata": {},
   "outputs": [],
   "source": [
    "class NewsPublisher:\n",
    "    def __init__(self):\n",
    "        self._subscribers = []\n",
    "        self._latest_news = None\n",
    "\n",
    "    def attach(self, subscriber):\n",
    "        self._subscribers.append(subscriber)\n",
    "\n",
    "    def detach(self, subscriber):\n",
    "        self._subscribers.remove(subscriber)\n",
    "\n",
    "    def notify_subscribers(self):\n",
    "        for subscriber in self._subscribers:\n",
    "            subscriber.update()\n",
    "\n",
    "    def add_news(self, news):\n",
    "        self._latest_news = news\n",
    "        self.notify_subscribers()\n",
    "\n",
    "    def get_news(self):\n",
    "        return self._latest_news\n",
    "\n",
    "\n",
    "class Subscriber:\n",
    "    def update(self):\n",
    "        # Get the latest news from the publisher\n",
    "        pass\n",
    "\n",
    "\n",
    "# Usage\n",
    "publisher = NewsPublisher()\n",
    "subscriber1 = Subscriber()\n",
    "publisher.attach(subscriber1)\n",
    "publisher.add_news(\"Breaking News: Python 4.0 Released!\")"
   ]
  },
  {
   "cell_type": "code",
   "execution_count": 3,
   "metadata": {},
   "outputs": [
    {
     "name": "stdout",
     "output_type": "stream",
     "text": [
      "Breaking News: Python 4.0 Released!\n"
     ]
    }
   ],
   "source": [
    "print(publisher.get_news())"
   ]
  },
  {
   "cell_type": "code",
   "execution_count": 4,
   "metadata": {},
   "outputs": [],
   "source": [
    "publisher.add_news(\"Breaking News: Python 3.13 Released!\")"
   ]
  },
  {
   "cell_type": "code",
   "execution_count": 5,
   "metadata": {},
   "outputs": [
    {
     "name": "stdout",
     "output_type": "stream",
     "text": [
      "Breaking News: Python 3.13 Released!\n"
     ]
    }
   ],
   "source": [
    "print(publisher.get_news())"
   ]
  },
  {
   "cell_type": "code",
   "execution_count": 6,
   "metadata": {},
   "outputs": [
    {
     "name": "stdout",
     "output_type": "stream",
     "text": [
      "None\n"
     ]
    }
   ],
   "source": [
    "print(publisher.notify_subscribers())"
   ]
  },
  {
   "cell_type": "code",
   "execution_count": null,
   "metadata": {},
   "outputs": [],
   "source": [
    "sub = publisher._subscribers"
   ]
  },
  {
   "cell_type": "code",
   "execution_count": 18,
   "metadata": {},
   "outputs": [
    {
     "data": {
      "text/plain": [
       "[<__main__.Subscriber at 0x7f1868b77d40>]"
      ]
     },
     "execution_count": 18,
     "metadata": {},
     "output_type": "execute_result"
    }
   ],
   "source": [
    "sub"
   ]
  },
  {
   "cell_type": "code",
   "execution_count": null,
   "metadata": {},
   "outputs": [],
   "source": []
  }
 ],
 "metadata": {
  "kernelspec": {
   "display_name": ".venv",
   "language": "python",
   "name": "python3"
  },
  "language_info": {
   "codemirror_mode": {
    "name": "ipython",
    "version": 3
   },
   "file_extension": ".py",
   "mimetype": "text/x-python",
   "name": "python",
   "nbconvert_exporter": "python",
   "pygments_lexer": "ipython3",
   "version": "3.12.3"
  }
 },
 "nbformat": 4,
 "nbformat_minor": 2
}
