{
 "cells": [
  {
   "cell_type": "code",
   "execution_count": null,
   "metadata": {},
   "outputs": [],
   "source": [
    "def swap_case(s):\n",
    "    return s.swapcase()\n"
   ]
  },
  {
   "cell_type": "code",
   "execution_count": null,
   "metadata": {},
   "outputs": [],
   "source": [
    "if __name__ == \"__main__\":\n",
    "    s = input()\n",
    "    result = swap_case(s)\n",
    "    print(result)"
   ]
  },
  {
   "cell_type": "code",
   "execution_count": 1,
   "metadata": {},
   "outputs": [],
   "source": [
    "s = \"MyNameIsPankaj\""
   ]
  },
  {
   "cell_type": "code",
   "execution_count": null,
   "metadata": {},
   "outputs": [],
   "source": [
    "def spacing_s(s):\n",
    "    flag = False\n",
    "    s_sorted = \"\"\n",
    "    for i, e in enumerate(s):\n",
    "        if e.isupper() and i != 0:\n",
    "            if i == 0:\n",
    "                flag = False\n",
    "            else:\n",
    "                flag = True\n",
    "            if flag:\n",
    "                s_sorted += f\" {e}\"\n",
    "        else:\n",
    "            s_sorted += f\"{e}\"\n",
    "    return s_sorted"
   ]
  },
  {
   "cell_type": "code",
   "execution_count": 17,
   "metadata": {},
   "outputs": [
    {
     "data": {
      "text/plain": [
       "'My Name Is Pankaj'"
      ]
     },
     "execution_count": 17,
     "metadata": {},
     "output_type": "execute_result"
    }
   ],
   "source": [
    "spacing_s(s)"
   ]
  },
  {
   "cell_type": "code",
   "execution_count": 24,
   "metadata": {},
   "outputs": [],
   "source": [
    "class Space(object):\n",
    "    # def __init__(s: str):\n",
    "    #     self.s = s\n",
    "\n",
    "    def spacing(s):\n",
    "        flag = False\n",
    "        s_sorted = \"\"\n",
    "        for i, e in enumerate(s):\n",
    "            if e.isupper() and i != 0:\n",
    "                if i == 0:\n",
    "                    flag = False\n",
    "                else:\n",
    "                    flag = True\n",
    "                if flag:\n",
    "                    s_sorted += f\" {e}\"\n",
    "            else:\n",
    "                s_sorted += f\"{e}\"\n",
    "        return s_sorted"
   ]
  },
  {
   "cell_type": "code",
   "execution_count": 27,
   "metadata": {},
   "outputs": [],
   "source": [
    "s_s = Space.spacing(s)"
   ]
  },
  {
   "cell_type": "code",
   "execution_count": 28,
   "metadata": {},
   "outputs": [
    {
     "data": {
      "text/plain": [
       "'My Name Is Pankaj'"
      ]
     },
     "execution_count": 28,
     "metadata": {},
     "output_type": "execute_result"
    }
   ],
   "source": [
    "s_s"
   ]
  },
  {
   "cell_type": "code",
   "execution_count": null,
   "metadata": {},
   "outputs": [],
   "source": []
  }
 ],
 "metadata": {
  "kernelspec": {
   "display_name": ".venv",
   "language": "python",
   "name": "python3"
  },
  "language_info": {
   "codemirror_mode": {
    "name": "ipython",
    "version": 3
   },
   "file_extension": ".py",
   "mimetype": "text/x-python",
   "name": "python",
   "nbconvert_exporter": "python",
   "pygments_lexer": "ipython3",
   "version": "3.12.3"
  }
 },
 "nbformat": 4,
 "nbformat_minor": 2
}
