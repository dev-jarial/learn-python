{
 "cells": [
  {
   "cell_type": "code",
   "execution_count": 1,
   "id": "9a700d1a",
   "metadata": {},
   "outputs": [],
   "source": [
    "import json\n",
    "import inspect\n",
    "from typing import Any, Callable, Dict"
   ]
  },
  {
   "cell_type": "code",
   "execution_count": 2,
   "id": "ad412d38",
   "metadata": {},
   "outputs": [],
   "source": [
    "class Tool:\n",
    "    def __init__(self, name:str, func: Callable, description:str):\n",
    "        self.name = name\n",
    "        self.func = Callable\n",
    "        self.description = description\n",
    "        self.params = list(inspect.signature(func).parameters)\n"
   ]
  },
  {
   "cell_type": "code",
   "execution_count": 5,
   "id": "ab684d2d",
   "metadata": {},
   "outputs": [],
   "source": [
    "def wiki_search(query: str) -> str:\n",
    "    return \"Result About\" + query"
   ]
  },
  {
   "cell_type": "code",
   "execution_count": 4,
   "id": "4f66aa00",
   "metadata": {},
   "outputs": [],
   "source": [
    "def calculator(expression: str)-> str:\n",
    "    return str(eval(expression))"
   ]
  },
  {
   "cell_type": "code",
   "execution_count": null,
   "id": "5eb08273",
   "metadata": {},
   "outputs": [],
   "source": [
    "from pydantic import BaseModel, Field\n",
    "\n",
    "class City(BaseModel):\n",
    "    city: str = Field(..., description=\"Name of the City.\")"
   ]
  },
  {
   "cell_type": "code",
   "execution_count": null,
   "id": "591650d8",
   "metadata": {},
   "outputs": [],
   "source": [
    "tools = [{\n",
    "    \"type\": \"function\",\n",
    "    \"name\": \"get_weather\",\n",
    "    \"description\": \"Get current temperature for a given location.\",\n",
    "    \"parameters\": {\n",
    "        \"type\": \"object\",\n",
    "        \"properties\": {\n",
    "            \"location\": {\n",
    "                \"type\": \"string\",\n",
    "                \"description\": \"City and country e.g. Bogotá, Colombia\"\n",
    "            }\n",
    "        },\n",
    "        \"required\": [\n",
    "            \"location\"\n",
    "        ],\n",
    "        \"additionalProperties\": False\n",
    "    }\n",
    "    },\n",
    "    {\n",
    "        \"type\": \"function\",\n",
    "        \"name\": \"city_information\",\n",
    "        \"description\": \"get the information about the city.\",\n",
    "        \"parameters\": {\n",
    "            \"type\": \"object\",\n",
    "            \"properties\": {\n",
    "                \"city\": {\n",
    "                    \"type\": \"string\",\n",
    "                    \"description\": \"City e.g. Mohali, Delhi\"\n",
    "                }\n",
    "            },\n",
    "            \"required\": [\n",
    "                \"city\"\n",
    "            ],\n",
    "            \"additionalProperties\": False\n",
    "        }\n",
    "    }\n",
    "]"
   ]
  },
  {
   "cell_type": "code",
   "execution_count": 11,
   "id": "c900eb01",
   "metadata": {},
   "outputs": [],
   "source": [
    "import requests\n",
    "weather_api_key = \"6462b585c894452484d224329250102\"\n",
    "def get_weather(city:str):\n",
    "    base_url = \"http://api.weatherapi.com/v1/current.json\"\n",
    "    param = {\"key\": weather_api_key, \"q\": city}\n",
    "    res = requests.post(url=base_url, params=param)\n",
    "    print(res.json)\n"
   ]
  },
  {
   "cell_type": "code",
   "execution_count": 12,
   "id": "585e1eaa",
   "metadata": {},
   "outputs": [
    {
     "name": "stdout",
     "output_type": "stream",
     "text": [
      "<bound method Response.json of <Response [200]>>\n"
     ]
    }
   ],
   "source": [
    "get_weather(\"London\")"
   ]
  },
  {
   "cell_type": "code",
   "execution_count": 13,
   "id": "8addbceb",
   "metadata": {},
   "outputs": [
    {
     "name": "stdout",
     "output_type": "stream",
     "text": [
      "<bound method Response.json of <Response [200]>>\n"
     ]
    }
   ],
   "source": [
    "base_url = \"http://api.weatherapi.com/v1/current.json\"\n",
    "param = {\"key\": weather_api_key, \"q\": \"london\"}\n",
    "res = requests.post(url=base_url, params=param)\n",
    "print(res.json)"
   ]
  },
  {
   "cell_type": "code",
   "execution_count": null,
   "id": "f62409b5",
   "metadata": {},
   "outputs": [],
   "source": []
  }
 ],
 "metadata": {
  "kernelspec": {
   "display_name": ".venv",
   "language": "python",
   "name": "python3"
  },
  "language_info": {
   "codemirror_mode": {
    "name": "ipython",
    "version": 3
   },
   "file_extension": ".py",
   "mimetype": "text/x-python",
   "name": "python",
   "nbconvert_exporter": "python",
   "pygments_lexer": "ipython3",
   "version": "3.12.3"
  }
 },
 "nbformat": 4,
 "nbformat_minor": 5
}
