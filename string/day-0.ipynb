{
 "cells": [
  {
   "cell_type": "code",
   "execution_count": 3,
   "metadata": {},
   "outputs": [
    {
     "data": {
      "text/plain": [
       "'abrackdabra'"
      ]
     },
     "execution_count": 3,
     "metadata": {},
     "output_type": "execute_result"
    }
   ],
   "source": [
    "def mutate_string(string, position, character):\n",
    "    s = \"\"\n",
    "    for i, e in enumerate(string):\n",
    "        if i == position:\n",
    "            e = character\n",
    "            s+=e\n",
    "        else:\n",
    "            s+=e\n",
    "    return s\n",
    "\n",
    "s = \"abracadabra\"\n",
    "i = 5\n",
    "c = \"k\"\n",
    "mutate_string(s, i, c)"
   ]
  },
  {
   "cell_type": "code",
   "execution_count": 4,
   "metadata": {},
   "outputs": [
    {
     "data": {
      "text/plain": [
       "2"
      ]
     },
     "execution_count": 4,
     "metadata": {},
     "output_type": "execute_result"
    }
   ],
   "source": [
    "def count_substring(string: str, sub_string: str):\n",
    "    sub_len = len(sub_string)\n",
    "    s_len = len(string)\n",
    "    count = 0\n",
    "    for i, e in enumerate(string, 1):\n",
    "        if sub_string[0] == e:\n",
    "\n",
    "            if i+(sub_len-1) <= s_len:\n",
    "                s = \"\". join([string[i-1], string[i], string[i-1]])\n",
    "                if s == sub_string:\n",
    "                    count+=1\n",
    "    return count\n",
    "\n",
    "s = \"ABCDCCDC\"\n",
    "sub_s = \"CDC\"\n",
    "count_substring(s, sub_s)"
   ]
  },
  {
   "cell_type": "code",
   "execution_count": 5,
   "metadata": {},
   "outputs": [
    {
     "data": {
      "text/plain": [
       "2"
      ]
     },
     "execution_count": 5,
     "metadata": {},
     "output_type": "execute_result"
    }
   ],
   "source": [
    "#  Dynamic way\n",
    "def count_substring(string: str, sub_string: str):\n",
    "    count = 0\n",
    "    for i in range(len(string) - len(sub_string) +1):\n",
    "        if  string[i:i+len(sub_string)] == sub_string:\n",
    "            count+=1\n",
    "    return count\n",
    "s = \"ABCDCCDC\"\n",
    "sub_s = \"CDC\"\n",
    "count_substring(s, sub_s)"
   ]
  },
  {
   "cell_type": "code",
   "execution_count": null,
   "metadata": {},
   "outputs": [],
   "source": []
  }
 ],
 "metadata": {
  "kernelspec": {
   "display_name": ".venv",
   "language": "python",
   "name": "python3"
  },
  "language_info": {
   "codemirror_mode": {
    "name": "ipython",
    "version": 3
   },
   "file_extension": ".py",
   "mimetype": "text/x-python",
   "name": "python",
   "nbconvert_exporter": "python",
   "pygments_lexer": "ipython3",
   "version": "3.12.3"
  }
 },
 "nbformat": 4,
 "nbformat_minor": 2
}
