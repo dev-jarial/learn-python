{
 "cells": [
  {
   "cell_type": "code",
   "execution_count": 2,
   "metadata": {},
   "outputs": [
    {
     "name": "stdout",
     "output_type": "stream",
     "text": [
      "---------.|.---------\n",
      "------.|..|..|.------\n",
      "---.|..|..|..|..|.---\n",
      "-------WELCOME-------\n",
      "---.|..|..|..|..|.---\n",
      "------.|..|..|.------\n",
      "---------.|.---------\n"
     ]
    }
   ],
   "source": [
    "def mat_manufacture(N, M):\n",
    "    if not M == N*3:\n",
    "        return None\n",
    "    if not 5 < N < 101:\n",
    "        return None\n",
    "    if not 15 < M < 303:\n",
    "        return None\n",
    "    center = int(N//2)+1\n",
    "    for row in range(1, N + 1):\n",
    "        if row == center:\n",
    "            # Middle row => print \"WELCOME\"\n",
    "            print(\"WELCOME\".center(M, \"-\"))\n",
    "        else:\n",
    "            # Determine how many times \".|.\" repeats\n",
    "            if row < center:\n",
    "                # top half => repeated 2*(row)-1 times\n",
    "                repeat_count = 2 * row - 1\n",
    "            else:\n",
    "                # bottom half => repeated 2*(N-row)+1 times\n",
    "                repeat_count = 2 * (N - row) + 1\n",
    "            \n",
    "            # Generate the pattern line\n",
    "            pattern_line = \".|.\" * repeat_count\n",
    "            # Center it using '-' as fill\n",
    "            print(pattern_line.center(M, \"-\"))\n",
    "\n",
    "mat_manufacture(7, 21)"
   ]
  }
 ],
 "metadata": {
  "kernelspec": {
   "display_name": ".venv",
   "language": "python",
   "name": "python3"
  },
  "language_info": {
   "codemirror_mode": {
    "name": "ipython",
    "version": 3
   },
   "file_extension": ".py",
   "mimetype": "text/x-python",
   "name": "python",
   "nbconvert_exporter": "python",
   "pygments_lexer": "ipython3",
   "version": "3.12.3"
  }
 },
 "nbformat": 4,
 "nbformat_minor": 2
}
