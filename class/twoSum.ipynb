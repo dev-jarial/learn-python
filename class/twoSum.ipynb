{
 "cells": [
  {
   "cell_type": "code",
   "execution_count": 17,
   "metadata": {},
   "outputs": [],
   "source": [
    "nums = [2, 7, 11, 15, 3, 4, 2, 2, 6, 1, 7, 8, 2]\n",
    "target = 9"
   ]
  },
  {
   "cell_type": "code",
   "execution_count": 18,
   "metadata": {},
   "outputs": [],
   "source": [
    "class Solutions(object):\n",
    "    def twoSum(self, nums, target):\n",
    "        \"\"\"\n",
    "        sum of two int equals to target\n",
    "        \"\"\"\n",
    "        num_list = []\n",
    "        for x in nums:\n",
    "            for y in nums:\n",
    "                if x + y == 9:\n",
    "                    num_list.append((x, y))\n",
    "        return num_list"
   ]
  },
  {
   "cell_type": "code",
   "execution_count": 21,
   "metadata": {},
   "outputs": [],
   "source": [
    "sol = Solutions()"
   ]
  },
  {
   "cell_type": "code",
   "execution_count": 22,
   "metadata": {},
   "outputs": [
    {
     "data": {
      "text/plain": [
       "[(2, 7),\n",
       " (2, 7),\n",
       " (7, 2),\n",
       " (7, 2),\n",
       " (7, 2),\n",
       " (7, 2),\n",
       " (3, 6),\n",
       " (2, 7),\n",
       " (2, 7),\n",
       " (2, 7),\n",
       " (2, 7),\n",
       " (6, 3),\n",
       " (1, 8),\n",
       " (7, 2),\n",
       " (7, 2),\n",
       " (7, 2),\n",
       " (7, 2),\n",
       " (8, 1),\n",
       " (2, 7),\n",
       " (2, 7)]"
      ]
     },
     "execution_count": 22,
     "metadata": {},
     "output_type": "execute_result"
    }
   ],
   "source": [
    "sol.twoSum(nums, target)"
   ]
  },
  {
   "cell_type": "code",
   "execution_count": 23,
   "metadata": {},
   "outputs": [],
   "source": [
    "import random\n",
    "\n",
    "sample = random.sample(range(9), 6)"
   ]
  },
  {
   "cell_type": "code",
   "execution_count": 28,
   "metadata": {},
   "outputs": [],
   "source": [
    "r = sol.twoSum(sample, target)"
   ]
  },
  {
   "cell_type": "code",
   "execution_count": 33,
   "metadata": {},
   "outputs": [
    {
     "name": "stdout",
     "output_type": "stream",
     "text": [
      "[7, 0, 3, 5, 4, 2] [(2, 7), (4, 5), (5, 4), (7, 2)]\n"
     ]
    }
   ],
   "source": [
    "print(sample, r)"
   ]
  },
  {
   "cell_type": "code",
   "execution_count": null,
   "metadata": {},
   "outputs": [],
   "source": []
  }
 ],
 "metadata": {
  "kernelspec": {
   "display_name": ".venv",
   "language": "python",
   "name": "python3"
  },
  "language_info": {
   "codemirror_mode": {
    "name": "ipython",
    "version": 3
   },
   "file_extension": ".py",
   "mimetype": "text/x-python",
   "name": "python",
   "nbconvert_exporter": "python",
   "pygments_lexer": "ipython3",
   "version": "3.12.3"
  }
 },
 "nbformat": 4,
 "nbformat_minor": 2
}
