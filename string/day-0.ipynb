{
 "cells": [
  {
   "cell_type": "code",
   "execution_count": 3,
   "metadata": {},
   "outputs": [
    {
     "data": {
      "text/plain": [
       "'abrackdabra'"
      ]
     },
     "execution_count": 3,
     "metadata": {},
     "output_type": "execute_result"
    }
   ],
   "source": [
    "def mutate_string(string, position, character):\n",
    "    s = \"\"\n",
    "    for i, e in enumerate(string):\n",
    "        if i == position:\n",
    "            e = character\n",
    "            s+=e\n",
    "        else:\n",
    "            s+=e\n",
    "    return s\n",
    "\n",
    "s = \"abracadabra\"\n",
    "i = 5\n",
    "c = \"k\"\n",
    "mutate_string(s, i, c)"
   ]
  }
 ],
 "metadata": {
  "kernelspec": {
   "display_name": ".venv",
   "language": "python",
   "name": "python3"
  },
  "language_info": {
   "codemirror_mode": {
    "name": "ipython",
    "version": 3
   },
   "file_extension": ".py",
   "mimetype": "text/x-python",
   "name": "python",
   "nbconvert_exporter": "python",
   "pygments_lexer": "ipython3",
   "version": "3.12.3"
  }
 },
 "nbformat": 4,
 "nbformat_minor": 2
}
