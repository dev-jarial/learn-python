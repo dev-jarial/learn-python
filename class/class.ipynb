{
 "cells": [
  {
   "cell_type": "code",
   "execution_count": 1,
   "metadata": {},
   "outputs": [
    {
     "name": "stdout",
     "output_type": "stream",
     "text": [
      "Bruno says woof!\n"
     ]
    }
   ],
   "source": [
    "class Dog:\n",
    "    def __init__(self, name):  # Constructor\n",
    "        self.name = name        # Attribute\n",
    "\n",
    "    def bark(self):            # Method\n",
    "        print(f\"{self.name} says woof!\")\n",
    "\n",
    "# Usage\n",
    "dog1 = Dog(\"Bruno\")\n",
    "dog1.bark()"
   ]
  },
  {
   "cell_type": "code",
   "execution_count": null,
   "metadata": {},
   "outputs": [
    {
     "name": "stdout",
     "output_type": "stream",
     "text": [
      "Tesla running at 110 km/h\n"
     ]
    }
   ],
   "source": [
    "class Car:\n",
    "    def __init__(self, brand, speed):\n",
    "        self.brand = brand\n",
    "        self.speed = speed\n",
    "\n",
    "    def accelerate(self, increment):\n",
    "        self.speed += increment\n",
    "\n",
    "    def display(self):\n",
    "        print(f\"{self.brand} running at {self.speed} km/h\")\n",
    "\n",
    "# Usage\n",
    "c = Car(\"Tesla\", 60)\n",
    "c.accelerate(20)\n",
    "c.accelerate(30)\n",
    "c.display()"
   ]
  },
  {
   "cell_type": "code",
   "execution_count": 29,
   "metadata": {},
   "outputs": [
    {
     "name": "stdout",
     "output_type": "stream",
     "text": [
      "Tesla running at 120 km/h\n"
     ]
    }
   ],
   "source": [
    "c.accelerate(10)\n",
    "c.display()"
   ]
  },
  {
   "cell_type": "code",
   "execution_count": 35,
   "metadata": {},
   "outputs": [
    {
     "name": "stdout",
     "output_type": "stream",
     "text": [
      "Animal sound\n",
      "boww\n"
     ]
    }
   ],
   "source": [
    "class Animal:\n",
    "    def speak(self):\n",
    "        print(\"Animal sound\")\n",
    "\n",
    "class Cat(Animal):\n",
    "    # def speak(self):\n",
    "    #     print(\"meow\")\n",
    "    def bark(self):\n",
    "        print(\"boww\")\n",
    "\n",
    "# Usage\n",
    "c = Cat()\n",
    "c.speak()\n",
    "c.bark()"
   ]
  },
  {
   "cell_type": "code",
   "execution_count": 52,
   "metadata": {},
   "outputs": [
    {
     "name": "stdout",
     "output_type": "stream",
     "text": [
      "pankaj\n",
      "Tricky Web\n",
      "True\n"
     ]
    }
   ],
   "source": [
    "class Employee:\n",
    "    company = \"Tricky Web\"\n",
    "\n",
    "    def __init__(self, name):\n",
    "        self.__name = name\n",
    "\n",
    "    @property\n",
    "    def name(self):\n",
    "        return self.__name.upper()\n",
    "\n",
    "    @classmethod\n",
    "    def get_company(cls):\n",
    "        return cls.company\n",
    "\n",
    "    @staticmethod\n",
    "    def is_workday(day):\n",
    "        return day.lower() not in ['saturday', 'sunday']\n",
    "\n",
    "# Usage\n",
    "e = Employee(\"pankaj\")\n",
    "print(e._Employee__name)       # PROPERTY\n",
    "print(Employee.get_company())   # CLASSMETHOD\n",
    "print(Employee.is_workday(\"Monday\"))  # STATICMETHOD\n"
   ]
  },
  {
   "cell_type": "code",
   "execution_count": null,
   "metadata": {},
   "outputs": [
    {
     "name": "stdout",
     "output_type": "stream",
     "text": [
      "Product(name='Keyboard', price=999.99)\n"
     ]
    }
   ],
   "source": [
    "from dataclasses import dataclass\n",
    "\n",
    "\n",
    "@dataclass\n",
    "class Product:\n",
    "    name: str\n",
    "    price: float\n",
    "\n",
    "# Usage\n",
    "p = Product(\"Keyboard\", 999.99)\n",
    "print(p)"
   ]
  },
  {
   "cell_type": "code",
   "execution_count": 75,
   "metadata": {},
   "outputs": [
    {
     "name": "stdout",
     "output_type": "stream",
     "text": [
      "Person(name='Alice', age=30)\n"
     ]
    }
   ],
   "source": [
    "from collections import namedtuple\n",
    "\n",
    "Person = namedtuple(\"Person\", [\"name\", \"age\"])\n",
    "p1 = Person(\"Alice\", 30)\n",
    "print(p1)"
   ]
  },
  {
   "cell_type": "code",
   "execution_count": null,
   "metadata": {},
   "outputs": [],
   "source": []
  }
 ],
 "metadata": {
  "kernelspec": {
   "display_name": ".venv",
   "language": "python",
   "name": "python3"
  },
  "language_info": {
   "codemirror_mode": {
    "name": "ipython",
    "version": 3
   },
   "file_extension": ".py",
   "mimetype": "text/x-python",
   "name": "python",
   "nbconvert_exporter": "python",
   "pygments_lexer": "ipython3",
   "version": "3.12.3"
  }
 },
 "nbformat": 4,
 "nbformat_minor": 2
}
