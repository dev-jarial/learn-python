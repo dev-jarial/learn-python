{
 "cells": [
  {
   "cell_type": "code",
   "execution_count": 1,
   "id": "1fdf2242",
   "metadata": {},
   "outputs": [],
   "source": [
    "class Car:\n",
    "    def __init__(self, make, model, year):\n",
    "        # Instance attributes\n",
    "        self.make = make\n",
    "        self.model = model\n",
    "        self.year = year\n",
    "        self._speed = 0  # A protected-like convention with underscore\n",
    "\n",
    "    def accelerate(self, increment=5):\n",
    "        self._speed += increment\n",
    "        return self._speed\n",
    "\n",
    "    def brake(self, decrement=5):\n",
    "        self._speed = max(0, self._speed - decrement)\n",
    "        return self._speed\n",
    "\n",
    "    def get_speed(self):\n",
    "        return self._speed\n"
   ]
  },
  {
   "cell_type": "code",
   "execution_count": 3,
   "id": "d2e9fa77",
   "metadata": {},
   "outputs": [],
   "source": [
    "maruti = Car(\"maruti\", \"800\", \"2010\")"
   ]
  },
  {
   "cell_type": "code",
   "execution_count": 25,
   "id": "3d8179d1",
   "metadata": {},
   "outputs": [
    {
     "name": "stdout",
     "output_type": "stream",
     "text": [
      "5\n",
      "0\n",
      "0\n"
     ]
    }
   ],
   "source": [
    "print(maruti.accelerate())\n",
    "print(maruti.brake())\n",
    "print(maruti.get_speed())"
   ]
  },
  {
   "cell_type": "code",
   "execution_count": 53,
   "id": "274493d0",
   "metadata": {},
   "outputs": [],
   "source": [
    "class ElectricCar(Car):\n",
    "    def __init__(self, make, model, year, battery_capacity):\n",
    "        super().__init__(make, model, year)  # Reuse Car's init\n",
    "        self.battery_capacity = battery_capacity  # kWh\n",
    "        self._battery_level = battery_capacity  # Start fully charged\n",
    "\n",
    "    def drive(self, distance):\n",
    "        # Very simplified usage model\n",
    "        battery_use = distance * 0.2  # Let's say 0.2 kWh/km\n",
    "        self._battery_level = max(0, self._battery_level - battery_use)\n",
    "        if self._battery_level == 0:\n",
    "            print(f\"Battery drained. Please recharge {self.make} {self.model}.\")\n",
    "        else:\n",
    "            print(\n",
    "                f\"Drove {distance} km. Remaining battery: {self._battery_level:.2f} kWh.\"\n",
    "            )\n",
    "\n",
    "\n",
    "tesla = ElectricCar(\"tesla\", \"model S\", \"2022\", 57)"
   ]
  },
  {
   "cell_type": "code",
   "execution_count": 52,
   "id": "5f3b675e",
   "metadata": {},
   "outputs": [
    {
     "name": "stdout",
     "output_type": "stream",
     "text": [
      "0\n",
      "5\n",
      "0\n",
      "Drove 10 km. Remaining battery: 55.00 kWh.\n",
      "None\n"
     ]
    }
   ],
   "source": [
    "print(tesla.get_speed())\n",
    "print(tesla.accelerate())\n",
    "print(tesla.brake())\n",
    "print(tesla.drive(10))"
   ]
  },
  {
   "cell_type": "code",
   "execution_count": 54,
   "id": "a3d27b89",
   "metadata": {},
   "outputs": [
    {
     "name": "stdout",
     "output_type": "stream",
     "text": [
      "Base initializer\n",
      "B initializer\n",
      "A initializer\n",
      "C initializer\n"
     ]
    }
   ],
   "source": [
    "class Base:\n",
    "    def __init__(self):\n",
    "        print(\"Base initializer\")\n",
    "\n",
    "\n",
    "class A(Base):\n",
    "    def __init__(self):\n",
    "        super().__init__()\n",
    "        print(\"A initializer\")\n",
    "\n",
    "\n",
    "class B(Base):\n",
    "    def __init__(self):\n",
    "        super().__init__()\n",
    "        print(\"B initializer\")\n",
    "\n",
    "\n",
    "class C(A, B):\n",
    "    def __init__(self):\n",
    "        super().__init__()\n",
    "        print(\"C initializer\")\n",
    "\n",
    "\n",
    "c = C()"
   ]
  },
  {
   "cell_type": "code",
   "execution_count": 62,
   "id": "a0146e8a",
   "metadata": {},
   "outputs": [
    {
     "name": "stdout",
     "output_type": "stream",
     "text": [
      "BaseClass initialized\n",
      "10\n",
      "ChildClass initialized\n"
     ]
    }
   ],
   "source": [
    "class BaseClass:\n",
    "    def __init__(self, value):\n",
    "        self.value = value\n",
    "        print(\"BaseClass initialized\")\n",
    "\n",
    "\n",
    "class ChildClass(BaseClass):\n",
    "    def __init__(self, value, extra):\n",
    "        # Call the parent class's __init__ method\n",
    "        super().__init__(value)\n",
    "        self.extra = extra\n",
    "        print(self.value)\n",
    "        print(\"ChildClass initialized\")\n",
    "\n",
    "\n",
    "# Usage:\n",
    "child = ChildClass(10, \"extra data\")\n"
   ]
  },
  {
   "cell_type": "code",
   "execution_count": null,
   "id": "11862c74",
   "metadata": {},
   "outputs": [],
   "source": []
  }
 ],
 "metadata": {
  "kernelspec": {
   "display_name": ".venv",
   "language": "python",
   "name": "python3"
  },
  "language_info": {
   "codemirror_mode": {
    "name": "ipython",
    "version": 3
   },
   "file_extension": ".py",
   "mimetype": "text/x-python",
   "name": "python",
   "nbconvert_exporter": "python",
   "pygments_lexer": "ipython3",
   "version": "3.12.3"
  }
 },
 "nbformat": 4,
 "nbformat_minor": 5
}
