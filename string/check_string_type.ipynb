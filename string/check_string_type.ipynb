{
 "cells": [
  {
   "cell_type": "code",
   "execution_count": 13,
   "metadata": {},
   "outputs": [
    {
     "name": "stdout",
     "output_type": "stream",
     "text": [
      "True\n",
      "True\n",
      "True\n",
      "True\n",
      "True\n"
     ]
    }
   ],
   "source": [
    "def string_check(s: str):\n",
    "    str_alnum = False\n",
    "    str_alpha = False\n",
    "    str_digit = False\n",
    "    str_lower = False\n",
    "    str_upper = False\n",
    "    for i in s:\n",
    "        if i.isalnum():\n",
    "            str_alnum = True\n",
    "        if i.isalpha():\n",
    "            str_alpha = True\n",
    "        if i.isdigit():\n",
    "            str_digit = True\n",
    "        if i.islower():\n",
    "            str_lower = True\n",
    "        if i.isupper():\n",
    "            str_upper = True\n",
    "\n",
    "    print(str_alnum)\n",
    "    print(str_alpha)\n",
    "    print(str_digit)\n",
    "    print(str_lower)\n",
    "    print(str_upper)\n",
    "s = \"qA2\"\n",
    "string_check(s) "
   ]
  },
  {
   "cell_type": "code",
   "execution_count": null,
   "metadata": {},
   "outputs": [],
   "source": []
  }
 ],
 "metadata": {
  "kernelspec": {
   "display_name": ".venv",
   "language": "python",
   "name": "python3"
  },
  "language_info": {
   "codemirror_mode": {
    "name": "ipython",
    "version": 3
   },
   "file_extension": ".py",
   "mimetype": "text/x-python",
   "name": "python",
   "nbconvert_exporter": "python",
   "pygments_lexer": "ipython3",
   "version": "3.12.3"
  }
 },
 "nbformat": 4,
 "nbformat_minor": 2
}
