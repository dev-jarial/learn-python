{
 "cells": [
  {
   "cell_type": "code",
   "execution_count": 5,
   "metadata": {},
   "outputs": [],
   "source": [
    "price = [1, 1, 8, 7, 4, 3, 4, 3, 1, 6, 1, 10, 8, 7, 7, 1, 9, 9]"
   ]
  },
  {
   "cell_type": "code",
   "execution_count": 8,
   "metadata": {},
   "outputs": [],
   "source": [
    "def best_profit_bruteforce(prices):\n",
    "    best = 0\n",
    "    for i in range(len(prices)):\n",
    "        for j in range(i + 1, len(prices)):\n",
    "            best = max(best, prices[j] - price[i])\n",
    "\n",
    "    return best\n",
    "\n",
    "\n",
    "# print(best_profit_bruteforce(price))"
   ]
  },
  {
   "cell_type": "code",
   "execution_count": null,
   "metadata": {},
   "outputs": [],
   "source": [
    "def best_profit_slow(prices):\n",
    "    n = len(prices)\n",
    "    best = 0\n",
    "    for i in range(n):\n",
    "        min_price = min(prices[0 : i + 1])\n",
    "        best = max(best, prices[i] - min_price)\n",
    "    return best\n",
    "\n",
    "\n",
    "print(best_profit_slow(price))"
   ]
  },
  {
   "cell_type": "code",
   "execution_count": null,
   "metadata": {},
   "outputs": [],
   "source": [
    "def best_profit(prices):\n",
    "    n = len(prices)\n",
    "    best = 0\n",
    "    min_price = prices[0]\n",
    "    for i in range(n):\n",
    "        min_price = min(min_price, prices[i])\n",
    "        best = max(best, prices[i] - min_price)\n",
    "    return best\n",
    "\n",
    "\n",
    "# print(best_profit(price))"
   ]
  },
  {
   "cell_type": "code",
   "execution_count": null,
   "metadata": {},
   "outputs": [
    {
     "data": {
      "text/plain": [
       "(18, [1, 1, 8, 7, 4, 3, 4, 3, 1, 6, 1, 10, 8, 7, 7, 1, 9, 9])"
      ]
     },
     "execution_count": 3,
     "metadata": {},
     "output_type": "execute_result"
    }
   ],
   "source": [
    "import random\n",
    "\n",
    "n = random.randint(1, 20)\n",
    "new_prices = [random.randint(1, 10) for _ in range(n)]\n",
    "\n",
    "n, new_prices"
   ]
  },
  {
   "cell_type": "code",
   "execution_count": 9,
   "metadata": {},
   "outputs": [],
   "source": [
    "result_brute = best_profit_bruteforce(new_prices)\n",
    "result_fast = best_profit(new_prices)\n"
   ]
  },
  {
   "cell_type": "code",
   "execution_count": 10,
   "metadata": {},
   "outputs": [
    {
     "data": {
      "text/plain": [
       "(9, 9)"
      ]
     },
     "execution_count": 10,
     "metadata": {},
     "output_type": "execute_result"
    }
   ],
   "source": [
    "result_brute, result_fast"
   ]
  },
  {
   "cell_type": "code",
   "execution_count": null,
   "metadata": {},
   "outputs": [],
   "source": []
  }
 ],
 "metadata": {
  "kernelspec": {
   "display_name": ".venv",
   "language": "python",
   "name": "python3"
  },
  "language_info": {
   "codemirror_mode": {
    "name": "ipython",
    "version": 3
   },
   "file_extension": ".py",
   "mimetype": "text/x-python",
   "name": "python",
   "nbconvert_exporter": "python",
   "pygments_lexer": "ipython3",
   "version": "3.12.3"
  }
 },
 "nbformat": 4,
 "nbformat_minor": 2
}
