{
 "cells": [
  {
   "cell_type": "code",
   "execution_count": 4,
   "metadata": {},
   "outputs": [
    {
     "name": "stdout",
     "output_type": "stream",
     "text": [
      "1742734720.838455\n"
     ]
    },
    {
     "data": {
      "text/plain": [
       "1742734720.838"
      ]
     },
     "execution_count": 4,
     "metadata": {},
     "output_type": "execute_result"
    }
   ],
   "source": [
    "# With round inbuilt method\n",
    "import time\n",
    "\n",
    "t = time.time()\n",
    "print(t)\n",
    "# Rounding the number which  carry last 3 digits.\n",
    "round(t, 3)"
   ]
  },
  {
   "cell_type": "code",
   "execution_count": 8,
   "metadata": {},
   "outputs": [
    {
     "name": "stdout",
     "output_type": "stream",
     "text": [
      "1742734720\n",
      "1742734721\n"
     ]
    }
   ],
   "source": [
    "# With Maths library\n",
    "import math\n",
    "\n",
    "# Rounding the number down\n",
    "down = math.floor(t)\n",
    "print(down)\n",
    "# rounding the number up\n",
    "up = math.ceil(t)\n",
    "print(up)"
   ]
  },
  {
   "cell_type": "code",
   "execution_count": 9,
   "metadata": {},
   "outputs": [
    {
     "name": "stdout",
     "output_type": "stream",
     "text": [
      "[-2.675      -1.23456789 -3.14159265]\n",
      "[-2.7 -1.2 -3.1]\n"
     ]
    }
   ],
   "source": [
    "# With the numpy library\n",
    "import numpy as np\n",
    "\n",
    "arr = np.array([-2.675, -1.23456789, -3.14159265])\n",
    "print(arr)\n",
    "round_arr = np.round(arr, 1)\n",
    "print(round_arr)"
   ]
  },
  {
   "cell_type": "code",
   "execution_count": null,
   "metadata": {},
   "outputs": [],
   "source": []
  }
 ],
 "metadata": {
  "kernelspec": {
   "display_name": ".venv",
   "language": "python",
   "name": "python3"
  },
  "language_info": {
   "codemirror_mode": {
    "name": "ipython",
    "version": 3
   },
   "file_extension": ".py",
   "mimetype": "text/x-python",
   "name": "python",
   "nbconvert_exporter": "python",
   "pygments_lexer": "ipython3",
   "version": "3.12.3"
  }
 },
 "nbformat": 4,
 "nbformat_minor": 2
}
