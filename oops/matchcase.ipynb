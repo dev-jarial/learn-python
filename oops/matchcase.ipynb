{
 "cells": [
  {
   "cell_type": "code",
   "execution_count": 3,
   "metadata": {},
   "outputs": [],
   "source": [
    "class check:\n",
    "    def condition(self, argument):\n",
    "        match argument:\n",
    "            case \"Pankaj\":\n",
    "                print(\"You are Jarial\")\n",
    "            case \"Jarial\":\n",
    "                print(\"You are may be Pankaj\")\n",
    "            case _:\n",
    "                print(\"Not know about you!\")"
   ]
  },
  {
   "cell_type": "code",
   "execution_count": 5,
   "metadata": {},
   "outputs": [
    {
     "name": "stdout",
     "output_type": "stream",
     "text": [
      "You are may be Pankaj\n"
     ]
    }
   ],
   "source": [
    "x = check().condition(\"Jarial\")"
   ]
  },
  {
   "cell_type": "code",
   "execution_count": null,
   "metadata": {},
   "outputs": [],
   "source": []
  }
 ],
 "metadata": {
  "kernelspec": {
   "display_name": ".venv",
   "language": "python",
   "name": "python3"
  },
  "language_info": {
   "codemirror_mode": {
    "name": "ipython",
    "version": 3
   },
   "file_extension": ".py",
   "mimetype": "text/x-python",
   "name": "python",
   "nbconvert_exporter": "python",
   "pygments_lexer": "ipython3",
   "version": "3.12.3"
  }
 },
 "nbformat": 4,
 "nbformat_minor": 2
}
