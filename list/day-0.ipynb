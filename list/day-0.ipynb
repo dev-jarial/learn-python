{
 "cells": [
  {
   "cell_type": "code",
   "execution_count": null,
   "metadata": {},
   "outputs": [
    {
     "name": "stdout",
     "output_type": "stream",
     "text": [
      "['print']\n",
      "[]\n"
     ]
    }
   ],
   "source": [
    "if __name__ == \"__main__\":\n",
    "    N = int(input())\n",
    "    l = list()\n",
    "    t = 1\n",
    "\n",
    "    while t <= N:\n",
    "        query = input().split(\" \")\n",
    "        if len(query) > 1:\n",
    "            ops, arg = query[0], query[1:]\n",
    "            if len(arg) > 1:\n",
    "                i, s = arg[0], arg[1]\n",
    "            else:\n",
    "                i = arg[0]\n",
    "            match ops:\n",
    "                case \"append\":\n",
    "                    l.append(int(i))\n",
    "\n",
    "                case \"remove\":\n",
    "                    l.remove(int(i))\n",
    "\n",
    "                case \"insert\":\n",
    "                    l.insert(int(i), int(s))\n",
    "\n",
    "        else:\n",
    "            match query[0]:\n",
    "                case \"print\":\n",
    "                    print(l)\n",
    "                case \"sort\":\n",
    "                    l.sort()\n",
    "                case \"pop\":\n",
    "                    l.pop()\n",
    "                case \"reverse\":\n",
    "                    l.reverse()\n",
    "\n",
    "        t += 1"
   ]
  },
  {
   "cell_type": "code",
   "execution_count": null,
   "metadata": {},
   "outputs": [],
   "source": []
  }
 ],
 "metadata": {
  "kernelspec": {
   "display_name": ".venv",
   "language": "python",
   "name": "python3"
  },
  "language_info": {
   "codemirror_mode": {
    "name": "ipython",
    "version": 3
   },
   "file_extension": ".py",
   "mimetype": "text/x-python",
   "name": "python",
   "nbconvert_exporter": "python",
   "pygments_lexer": "ipython3",
   "version": "3.12.3"
  }
 },
 "nbformat": 4,
 "nbformat_minor": 2
}
